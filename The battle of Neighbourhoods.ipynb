{
    "nbformat_minor": 1, 
    "cells": [
        {
            "source": "# Capstone Project - The Battle of Neighbourhoods", 
            "cell_type": "markdown", 
            "metadata": {
                "collapsed": true
            }
        }, 
        {
            "source": "**Applied Data Science Capstone by IBM , on Coursera (Last course to get the Data Science Professional Certificate)**", 
            "cell_type": "markdown", 
            "metadata": {}
        }, 
        {
            "source": "# Table of Contents\n\n1. <a href='#Introduction: Business Problem'>Introduction: Business Problem</a>\n2. <a href='#Data'>Data</a>\n3. <a href='#Methodology'>Methodology</a>\n4. <a href='Results'>Results</a>\n5. <a href='#Discussion'>Discussion</a>\n6. <a href='#Conclusion'>Conclusion</a>", 
            "cell_type": "markdown", 
            "metadata": {}
        }, 
        {
            "source": "<a id='Introduction: Business Problem'></a>\n## Introduction: Business Problem \n", 
            "cell_type": "markdown", 
            "metadata": {}
        }, 
        {
            "source": "**Aurora Coffee Shop** is a Chinese company that was founded in the city of Shanghai in 1992, its particular way of preparing coffee and its own recipes make it unique worldwide. Due to the economic growth it has had in recent times, its shareholders decided to open new shops outside of China.\n\nThey consider that the United States (New York City) is a market in which they can succeed.\n\nAfter several meetings, they have decided to focus their attention on **Brooklyn** since this borough is known for its cultural, social, and ethnic diversity, an independent art scene, distinct neighborhoods, and a distinctive architectural heritage. Another influencing factor is that since 2010, Brooklyn has evolved into a thriving hub of entrepreneurship and high technology startup firms, and of postmodern art and design.\n\nAs part of the company's **Data Science team**, I was tasked with recommending the two best areas for setting up their 2 new shops:\n\n1. In the area where the 1st or 2nd most common venue is Coffee Shops\n2. In another area where the data science team deems appropriate (borough analysis's results)\n", 
            "cell_type": "markdown", 
            "metadata": {}
        }, 
        {
            "source": "<a id='Data'></a>\n## Data\n", 
            "cell_type": "markdown", 
            "metadata": {}
        }, 
        {
            "source": "Based on definition of our problem, following are the factors addressed:\n\n- Number of existing Coffe Shops in Brooklyn\n- Most interested venues\n\nFollowing data sources will be needed to extract/generate the required information:\n\n- NYC json file (https://cocl.us/new_york_dataset) containing features, names, coordinates, neighbourhoods, boroughs and geometric properties of      those boroughs within NYC\n- Forsquare API to get the most common venues of each neihbourhoods in Brooklyn\n\n", 
            "cell_type": "markdown", 
            "metadata": {}
        }
    ], 
    "metadata": {
        "kernelspec": {
            "display_name": "Python 3.6", 
            "name": "python3", 
            "language": "python"
        }, 
        "language_info": {
            "mimetype": "text/x-python", 
            "nbconvert_exporter": "python", 
            "version": "3.6.8", 
            "name": "python", 
            "file_extension": ".py", 
            "pygments_lexer": "ipython3", 
            "codemirror_mode": {
                "version": 3, 
                "name": "ipython"
            }
        }
    }, 
    "nbformat": 4
}